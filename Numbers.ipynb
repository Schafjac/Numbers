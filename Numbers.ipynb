{
 "cells": [
  {
   "cell_type": "code",
   "execution_count": 1,
   "id": "683c7935",
   "metadata": {},
   "outputs": [
    {
     "name": "stdout",
     "output_type": "stream",
     "text": [
      "3600\n"
     ]
    }
   ],
   "source": [
    "seconds = 60\n",
    "minutes = 60\n",
    "total = seconds * minutes\n",
    "\n",
    "print(total)"
   ]
  },
  {
   "cell_type": "code",
   "execution_count": 2,
   "id": "b3d000a9",
   "metadata": {},
   "outputs": [
    {
     "name": "stdout",
     "output_type": "stream",
     "text": [
      "The number of seconds in a day is  86400\n"
     ]
    }
   ],
   "source": [
    "seconds_per_hour = 3600\n",
    "hours_per_day = 24\n",
    "\n",
    "seconds_per_day = seconds_per_hour * hours_per_day\n",
    "\n",
    "print(\"The number of seconds in a day is \",seconds_per_day)"
   ]
  },
  {
   "cell_type": "code",
   "execution_count": 3,
   "id": "33d58e2b",
   "metadata": {},
   "outputs": [
    {
     "name": "stdout",
     "output_type": "stream",
     "text": [
      "24.0\n"
     ]
    }
   ],
   "source": [
    "single_division = seconds_per_day / seconds_per_hour\n",
    "\n",
    "print(single_division)"
   ]
  },
  {
   "cell_type": "code",
   "execution_count": 4,
   "id": "edc140a6",
   "metadata": {},
   "outputs": [
    {
     "name": "stdout",
     "output_type": "stream",
     "text": [
      "24\n"
     ]
    }
   ],
   "source": [
    "single_division = seconds_per_day // seconds_per_hour\n",
    "\n",
    "print(single_division)"
   ]
  },
  {
   "cell_type": "code",
   "execution_count": 5,
   "id": "a88e5577",
   "metadata": {},
   "outputs": [
    {
     "name": "stdout",
     "output_type": "stream",
     "text": [
      "To answer question 3.6, they agreed with each other. The only difference was the .0\n"
     ]
    }
   ],
   "source": [
    "print(\"To answer question 3.6, they agreed with each other. The only difference was the .0\")"
   ]
  }
 ],
 "metadata": {
  "kernelspec": {
   "display_name": "Python 3 (ipykernel)",
   "language": "python",
   "name": "python3"
  },
  "language_info": {
   "codemirror_mode": {
    "name": "ipython",
    "version": 3
   },
   "file_extension": ".py",
   "mimetype": "text/x-python",
   "name": "python",
   "nbconvert_exporter": "python",
   "pygments_lexer": "ipython3",
   "version": "3.10.9"
  }
 },
 "nbformat": 4,
 "nbformat_minor": 5
}
